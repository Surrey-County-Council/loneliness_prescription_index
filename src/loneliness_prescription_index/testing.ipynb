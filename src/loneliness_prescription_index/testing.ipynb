{
 "cells": [
  {
   "cell_type": "code",
   "execution_count": 1,
   "id": "bdd9a8fb",
   "metadata": {},
   "outputs": [
    {
     "name": "stderr",
     "output_type": "stream",
     "text": [
      "\u001b[32m2025-10-30 18:59:46.415\u001b[0m | \u001b[1mINFO    \u001b[0m | \u001b[36mloneliness_prescription_index.config\u001b[0m:\u001b[36m<module>\u001b[0m:\u001b[36m6\u001b[0m - \u001b[1mPROJ_ROOT path is: D:\\nmolkent\\code\\loneliness_prescription_index\u001b[0m\n"
     ]
    }
   ],
   "source": [
    "import pandas as pd\n",
    "import polars as pl\n",
    "import httpx\n",
    "from pydantic import BaseModel, RootModel\n",
    "from pathlib import Path\n",
    "import yaml\n",
    "from loneliness_prescription_index.config import DATA_DIR"
   ]
  },
  {
   "cell_type": "code",
   "execution_count": null,
   "id": "a5b53164",
   "metadata": {},
   "outputs": [
    {
     "data": {
      "text/html": [
       "<div><style>\n",
       ".dataframe > thead > tr,\n",
       ".dataframe > tbody > tr {\n",
       "  text-align: right;\n",
       "  white-space: pre-wrap;\n",
       "}\n",
       "</style>\n",
       "<small>shape: (84_282, 3)</small><table border=\"1\" class=\"dataframe\"><thead><tr><th>month</th><th>postcode</th><th>total_items</th></tr><tr><td>i8</td><td>str</td><td>i64</td></tr></thead><tbody><tr><td>12</td><td>&quot;LE48PQ&quot;</td><td>517</td></tr><tr><td>2</td><td>&quot;CO102DZ&quot;</td><td>26309</td></tr><tr><td>2</td><td>&quot;PR83LB&quot;</td><td>7844</td></tr><tr><td>3</td><td>&quot;MK403DB&quot;</td><td>18449</td></tr><tr><td>5</td><td>&quot;HX64BN&quot;</td><td>14784</td></tr><tr><td>&hellip;</td><td>&hellip;</td><td>&hellip;</td></tr><tr><td>1</td><td>&quot;RH76ER&quot;</td><td>14984</td></tr><tr><td>2</td><td>&quot;TQ13HD&quot;</td><td>16779</td></tr><tr><td>9</td><td>&quot;CW95PD&quot;</td><td>346</td></tr><tr><td>5</td><td>&quot;SW191YG&quot;</td><td>10728</td></tr><tr><td>6</td><td>&quot;NG197PE&quot;</td><td>8422</td></tr></tbody></table></div>"
      ],
      "text/plain": [
       "shape: (84_282, 3)\n",
       "┌───────┬──────────┬─────────────┐\n",
       "│ month ┆ postcode ┆ total_items │\n",
       "│ ---   ┆ ---      ┆ ---         │\n",
       "│ i8    ┆ str      ┆ i64         │\n",
       "╞═══════╪══════════╪═════════════╡\n",
       "│ 12    ┆ LE48PQ   ┆ 517         │\n",
       "│ 2     ┆ CO102DZ  ┆ 26309       │\n",
       "│ 2     ┆ PR83LB   ┆ 7844        │\n",
       "│ 3     ┆ MK403DB  ┆ 18449       │\n",
       "│ 5     ┆ HX64BN   ┆ 14784       │\n",
       "│ …     ┆ …        ┆ …           │\n",
       "│ 1     ┆ RH76ER   ┆ 14984       │\n",
       "│ 2     ┆ TQ13HD   ┆ 16779       │\n",
       "│ 9     ┆ CW95PD   ┆ 346         │\n",
       "│ 5     ┆ SW191YG  ┆ 10728       │\n",
       "│ 6     ┆ NG197PE  ┆ 8422        │\n",
       "└───────┴──────────┴─────────────┘"
      ]
     },
     "execution_count": 18,
     "metadata": {},
     "output_type": "execute_result"
    }
   ],
   "source": [
    "path = DATA_DIR / \"grouped_epds\" / \"items_by_prescription\"\n",
    "pl.scan_parquet(path).filter(\n",
    "    year=2024,\n",
    ").group_by(\n",
    "    \"medication\"\n",
    ").agg(\n",
    "    pl.sum(\"total_items\")\n",
    ").collect()"
   ]
  }
 ],
 "metadata": {
  "kernelspec": {
   "display_name": "loneliness-prescription-index",
   "language": "python",
   "name": "python3"
  },
  "language_info": {
   "codemirror_mode": {
    "name": "ipython",
    "version": 3
   },
   "file_extension": ".py",
   "mimetype": "text/x-python",
   "name": "python",
   "nbconvert_exporter": "python",
   "pygments_lexer": "ipython3",
   "version": "3.12.0"
  }
 },
 "nbformat": 4,
 "nbformat_minor": 5
}
